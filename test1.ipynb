{
 "cells": [
  {
   "cell_type": "code",
   "execution_count": 3,
   "metadata": {},
   "outputs": [
    {
     "name": "stderr",
     "output_type": "stream",
     "text": [
      "test_read_tsv (__main__.TestReadTSV.test_read_tsv) ... ok\n",
      "test_process_and_set_default (__main__.TestProcessAndSetDefault.test_process_and_set_default) ... ok\n",
      "\n",
      "----------------------------------------------------------------------\n",
      "Ran 2 tests in 0.033s\n",
      "\n",
      "OK\n"
     ]
    }
   ],
   "source": [
    "import unittest\n",
    "import numpy as np\n",
    "import pandas as pd\n",
    "from io import StringIO\n",
    "\n",
    "# Mock TSV content\n",
    "TSV_CONTENT = \"\"\"col1\\tcol2\\tcol3\n",
    "1\\t2.0\\t3.0\n",
    "4\\t5.0\\t6.0\n",
    "7\\t8.0\\t9.0\n",
    "\"\"\"\n",
    "\n",
    "def read_tsv(file_path):\n",
    "    # Simulating reading from a file\n",
    "    if file_path == 'test.tsv':\n",
    "        return pd.read_csv(StringIO(TSV_CONTENT), sep='\\t')\n",
    "    else:\n",
    "        raise FileNotFoundError\n",
    "\n",
    "def process_and_set_default(train_dataset, dir, train_file_path):\n",
    "    data_frame = read_tsv(train_file_path)\n",
    "    processed_data = data_frame.iloc[:, 1:].values.astype(np.float64)\n",
    "    train_dataset.setdefault(dir, processed_data)\n",
    "\n",
    "class TestReadTSV(unittest.TestCase):\n",
    "    def test_read_tsv(self):\n",
    "        df = read_tsv('test.tsv')\n",
    "        self.assertEqual(df.shape, (3, 3))\n",
    "        self.assertListEqual(list(df.columns), ['col1', 'col2', 'col3'])\n",
    "        self.assertTrue((df['col1'] == [1, 4, 7]).all())\n",
    "\n",
    "class TestProcessAndSetDefault(unittest.TestCase):\n",
    "    def test_process_and_set_default(self):\n",
    "        train_dataset = {}\n",
    "        process_and_set_default(train_dataset, 'test_dir', 'test.tsv')\n",
    "        self.assertIn('test_dir', train_dataset)\n",
    "        expected_array = np.array([[2.0, 3.0], [5.0, 6.0], [8.0, 9.0]], dtype=np.float64)\n",
    "        np.testing.assert_array_equal(train_dataset['test_dir'], expected_array)\n",
    "\n",
    "if __name__ == '__main__':\n",
    "    # Use this block to run tests in a Jupyter notebook or similar environments\n",
    "    loader = unittest.TestLoader()\n",
    "    suite = unittest.TestSuite()\n",
    "    \n",
    "    suite.addTests(loader.loadTestsFromTestCase(TestReadTSV))\n",
    "    suite.addTests(loader.loadTestsFromTestCase(TestProcessAndSetDefault))\n",
    "    \n",
    "    runner = unittest.TextTestRunner(verbosity=2)\n",
    "    runner.run(suite)\n"
   ]
  },
  {
   "cell_type": "code",
   "execution_count": null,
   "metadata": {},
   "outputs": [],
   "source": [
    "from zhipuai import ZhipuAI\n",
    "client = ZhipuAI(api_key=\"\") # 填写您自己的APIKey\n",
    "response = client.chat.completions.create(\n",
    "    model=\"glm-4\",  # 填写需要调用的模型名称\n",
    "    messages=[\n",
    "        {\"role\": \"user\", \"content\": \"作为一名营销专家，请为智谱开放平台创作一个吸引人的slogan\"},\n",
    "        {\"role\": \"assistant\", \"content\": \"当然，为了创作一个吸引人的slogan，请告诉我一些关于您产品的信息\"},\n",
    "        {\"role\": \"user\", \"content\": \"智谱AI开放平台\"},\n",
    "        {\"role\": \"assistant\", \"content\": \"智启未来，谱绘无限一智谱AI，让创新触手可及!\"},\n",
    "        {\"role\": \"user\", \"content\": \"创造一个更精准、吸引人的slogan\"}\n",
    "    ],\n",
    ")\n",
    "print(response.choices[0].message)\n",
    "    "
   ]
  }
 ],
 "metadata": {
  "kernelspec": {
   "display_name": "llmrag",
   "language": "python",
   "name": "python3"
  },
  "language_info": {
   "codemirror_mode": {
    "name": "ipython",
    "version": 3
   },
   "file_extension": ".py",
   "mimetype": "text/x-python",
   "name": "python",
   "nbconvert_exporter": "python",
   "pygments_lexer": "ipython3",
   "version": "3.12.4"
  }
 },
 "nbformat": 4,
 "nbformat_minor": 2
}
