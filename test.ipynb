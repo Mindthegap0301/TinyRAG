{
 "cells": [
  {
   "cell_type": "code",
   "execution_count": 1,
   "metadata": {},
   "outputs": [],
   "source": [
    "from RAG.VectorBase import VectorStore\n",
    "from RAG.utils import ReadFiles\n",
    "from RAG.LLM import ErnieChat\n",
    "from RAG.Embeddings import JinaEmbedding"
   ]
  },
  {
   "cell_type": "code",
   "execution_count": 3,
   "metadata": {},
   "outputs": [
    {
     "name": "stderr",
     "output_type": "stream",
     "text": [
      "Calculating embeddings: 100%|██████████| 30/30 [00:09<00:00,  3.06it/s]\n"
     ]
    },
    {
     "name": "stdout",
     "output_type": "stream",
     "text": [
      "Git的分支原理主要是通过创建和合并分支来隔离开发工作，使得每个分支成为一个独立的开发环境，互不影响。\n",
      "\n",
      "在Git中，几乎所有操作都是本地执行的，包括创建和切换分支。这意味着你可以在本地创建或切换分支，而不需要与远程仓库进行通信。通过使用git branch命令可以创建新分支，使用git checkout命令可以切换到新分支。同时，你也可以使用git checkout -b命令一次性创建并立即切换到新分支。\n",
      "\n",
      "分支的创建和合并可以帮助开发者们进行特性开发、修复bug或者尝试新想法。此外，合理的分支策略可以帮助团队更有效地协作。例如，GitFlow和GitHubFlow都是常见的分支策略，它们定义了不同的分支\n"
     ]
    }
   ],
   "source": [
    "# 没有保存数据库\n",
    "docs = ReadFiles('./data').get_content(max_token_len=600, cover_content=150) # 获得data目录下的所有文件内容并分割\n",
    "embedding = JinaEmbedding() # 创建EmbeddingModel\n",
    "vector = VectorStore(docs)\n",
    "vector.get_vector(EmbeddingModel=embedding)\n",
    "vector.persist(path='storage') # 将向量和文档内容保存到storage目录下，下次再用就可以直接加载本地的数据库\n",
    "\n",
    "question = 'git的分支原理？'\n",
    "\n",
    "content = vector.query(question, EmbeddingModel=embedding, k=1)[0]\n",
    "chat = ErnieChat()\n",
    "print(chat.chat(question, [], content))"
   ]
  },
  {
   "cell_type": "code",
   "execution_count": 2,
   "metadata": {},
   "outputs": [
    {
     "name": "stderr",
     "output_type": "stream",
     "text": [
      "e:\\anaconda\\envs\\llmrag\\Lib\\site-packages\\tqdm\\auto.py:21: TqdmWarning: IProgress not found. Please update jupyter and ipywidgets. See https://ipywidgets.readthedocs.io/en/stable/user_install.html\n",
      "  from .autonotebook import tqdm as notebook_tqdm\n",
      "[INFO][2024-06-27 18:20:22.603] oauth.py:228 [t:15356]: trying to refresh access_token for ak `htCbOF***`\n",
      "[INFO][2024-06-27 18:20:23.807] oauth.py:243 [t:15356]: sucessfully refresh access_token\n"
     ]
    },
    {
     "name": "stdout",
     "output_type": "stream",
     "text": [
      "Git的分支原理主要基于其版本控制系统的核心思想。Git通过使用快照来保存项目的各个状态，每个快照都由一个唯一的哈希值来标识。分支实际上就是这些快照的指针的移动。\n",
      "\n",
      "在Git中，每个分支都从一个特定的提交开始，然后可以各自独立地向前发展。你可以创建新的分支，这些新分支会从当前提交开始，与主分支并行发展。每个分支都有自己的提交历史记录，但这些历史记录都是基于相同的祖先提交。\n",
      "\n",
      "当你在一个分支上工作时，你可以随时创建新的提交，这些提交会形成一个线性历史记录。如果你想要创建一个新的分支，你可以使用`git branch`命令来创建一个新的分支指针。\n"
     ]
    }
   ],
   "source": [
    "vector = VectorStore()\n",
    "\n",
    "vector.load_vector('./storage') # 加载本地的数据库\n",
    "\n",
    "embedding = JinaEmbedding()\n",
    "\n",
    "question = 'git的分支原理？'\n",
    "\n",
    "content = vector.query(question, EmbeddingModel=embedding, k=1)[0]\n",
    "\n",
    "chat = ErnieChat()\n",
    "#chat = OpenAIChat(model='gpt-3.5-turbo-1106')\n",
    "print(chat.chat(question, [], content))"
   ]
  },
  {
   "cell_type": "code",
   "execution_count": null,
   "metadata": {},
   "outputs": [],
   "source": []
  }
 ],
 "metadata": {
  "kernelspec": {
   "display_name": "base",
   "language": "python",
   "name": "python3"
  },
  "language_info": {
   "codemirror_mode": {
    "name": "ipython",
    "version": 3
   },
   "file_extension": ".py",
   "mimetype": "text/x-python",
   "name": "python",
   "nbconvert_exporter": "python",
   "pygments_lexer": "ipython3",
   "version": "3.12.4"
  }
 },
 "nbformat": 4,
 "nbformat_minor": 2
}
